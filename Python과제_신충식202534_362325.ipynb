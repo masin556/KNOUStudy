{
  "nbformat": 4,
  "nbformat_minor": 0,
  "metadata": {
    "colab": {
      "provenance": [],
      "authorship_tag": "ABX9TyNK26aRUNe7EpRKt7p9X5KT",
      "include_colab_link": true
    },
    "kernelspec": {
      "name": "python3",
      "display_name": "Python 3"
    },
    "language_info": {
      "name": "python"
    }
  },
  "cells": [
    {
      "cell_type": "markdown",
      "metadata": {
        "id": "view-in-github",
        "colab_type": "text"
      },
      "source": [
        "<a href=\"https://colab.research.google.com/github/masin556/KNOUStudy/blob/main/Python%EA%B3%BC%EC%A0%9C_%EC%8B%A0%EC%B6%A9%EC%8B%9D202534_362325.ipynb\" target=\"_parent\"><img src=\"https://colab.research.google.com/assets/colab-badge.svg\" alt=\"Open In Colab\"/></a>"
      ]
    },
    {
      "cell_type": "markdown",
      "source": [
        "# 과제 2번 섭씨온도를 사용자로 부터 입력받고 섭씨온도를 화씨온도로 변환하는 프로그램을 작성하시오\n",
        "\n",
        "섭씨온도 : 켈빈의 수치에서 273.15를 뺀 값\n",
        "화씨온도 : 화씨 온도 = 섭씨 온도 × 9/5 + 32"
      ],
      "metadata": {
        "id": "eocKObkBiRzk"
      }
    },
    {
      "cell_type": "code",
      "source": [
        "# 화씨변환\n",
        "def CeFaChange(CeF):\n",
        "    CastCel = float(CeF)\n",
        "    Ft = (9.0 / 5.0) * CastCel + 32.0\n",
        "    return Ft\n",
        "\n",
        "CeF = input(\"섭씨온도를 입력해주세요 : \")\n",
        "\n",
        "Fah = CeFaChange(CeF)\n",
        "\n",
        "print(\"=============================\")\n",
        "print(\"(정수)화씨온도 : \", int(Fah), \"°F\")\n",
        "print(\"화씨온도 : \", Fah,\"″F\")"
      ],
      "metadata": {
        "colab": {
          "base_uri": "https://localhost:8080/"
        },
        "id": "k3t9KXRKiknO",
        "outputId": "7abac5ec-ae26-4350-dcd3-e9e28f62f07c"
      },
      "execution_count": null,
      "outputs": [
        {
          "output_type": "stream",
          "name": "stdout",
          "text": [
            "섭씨온도를 입력해주세요 : 20\n",
            "=============================\n",
            "(정수)화씨온도 :  68 °F\n",
            "화씨온도 :  68.0 ″F\n"
          ]
        }
      ]
    },
    {
      "cell_type": "code",
      "source": [
        "#간단한 방식\n",
        "CeF = int(input(\"섭씨온도 입력하세요 : \"))\n",
        "Ft = (9.0/ 5.0) * CeF + 32.0\n",
        "\n",
        "print(\"화씨온도 : \", Ft, \"°F\")\n",
        "print(\"화씨온도(정수):\", int(Ft), \"°F\")"
      ],
      "metadata": {
        "colab": {
          "base_uri": "https://localhost:8080/"
        },
        "id": "LpFtjMl7mMII",
        "outputId": "cb1a26d3-2126-4dbd-ad1c-7ef889ee2835"
      },
      "execution_count": null,
      "outputs": [
        {
          "output_type": "stream",
          "name": "stdout",
          "text": [
            "섭씨온도 입력하세요 : 32\n",
            "화씨온도 :  89.6 °F\n",
            "화씨온도(정수): 89 °F\n"
          ]
        }
      ]
    },
    {
      "cell_type": "markdown",
      "source": [
        "#문제3 사용자로부터 10진수를 입력받아 2진수로 변환하는 프로그램을 작성하시오 ( 내장 함수 사용금지)"
      ],
      "metadata": {
        "id": "6Zca5dJ0J5p3"
      }
    },
    {
      "cell_type": "code",
      "source": [
        "while True:\n",
        "    try:\n",
        "        DecInStr = input(\"10진수 정수입력 (0 이상): \")\n",
        "        DecNum = int(DecInStr) # 정수 값으로 전환\n",
        "\n",
        "        if DecNum >= 0: # 정수 값인지 판별\n",
        "            OriginNum = DecNum\n",
        "            print(f\"\\n---정수 : [{OriginNum}] -> 2진수 변환 ---\")\n",
        "\n",
        "            if DecNum == 0: # 0 입력시 처리\n",
        "                print(\"   0 / 2 = 0 => 나머지: 0\")\n",
        "                BinStr = \"0\"\n",
        "            else:\n",
        "                BinStr = \"\"  # 최종결과를 저장 문자열\n",
        "                TempNum = DecNum\n",
        "\n",
        "                # 몫이 0보다 작아질 때까지 반복\n",
        "                while TempNum > 0:\n",
        "                    Res = TempNum % 2 # 나눈 나머지\n",
        "                    Qut = TempNum // 2 #\n",
        "                    print(f\"(값):{TempNum:>5} / 2 = (몫): {Qut:<5} => 나머지: {Res}\")\n",
        "                    # 나머지를 문자열로 변환 기존 문자열 앞에 추가\n",
        "                    BinStr = str(Res) + BinStr # 나머지 값 이어붙이기\n",
        "                    # BinStr += str(Res) # 문자열 뒤집을 때 사용\n",
        "                    TempNum = Qut\n",
        "                # BinStr = BinStr[::-1] # 문자열 뒤집기\n",
        "\n",
        "            print(\"=======================================\")\n",
        "            print(\"결과 : \", f\"{OriginNum} = ({BinStr})₂\")\n",
        "            break # 끝\n",
        "        else:\n",
        "            print(\"음수는 금지!. 0 이상의 정수입력.\")\n",
        "\n",
        "# 잘못된 입력\n",
        "    except ValueError:\n",
        "        print(\"Warning. 정수를 정확히 입력.\")\n",
        "    except Exception as e:\n",
        "        print(f\"Error!: {e}\")\n",
        "        break"
      ],
      "metadata": {
        "colab": {
          "base_uri": "https://localhost:8080/"
        },
        "id": "GBYH7aekLa3T",
        "outputId": "bd86705e-9538-4bd0-dc47-56e0b9f54974"
      },
      "execution_count": 47,
      "outputs": [
        {
          "output_type": "stream",
          "name": "stdout",
          "text": [
            "10진수 정수입력 (0 이상): 723\n",
            "\n",
            "---정수 : [723] -> 2진수 변환 ---\n",
            "(값):  723 / 2 = (몫): 361   => 나머지: 1\n",
            "(값):  361 / 2 = (몫): 180   => 나머지: 1\n",
            "(값):  180 / 2 = (몫): 90    => 나머지: 0\n",
            "(값):   90 / 2 = (몫): 45    => 나머지: 0\n",
            "(값):   45 / 2 = (몫): 22    => 나머지: 1\n",
            "(값):   22 / 2 = (몫): 11    => 나머지: 0\n",
            "(값):   11 / 2 = (몫): 5     => 나머지: 1\n",
            "(값):    5 / 2 = (몫): 2     => 나머지: 1\n",
            "(값):    2 / 2 = (몫): 1     => 나머지: 0\n",
            "(값):    1 / 2 = (몫): 0     => 나머지: 1\n",
            "=======================================\n",
            "결과 :  723 = (1011010011)₂\n"
          ]
        }
      ]
    },
    {
      "cell_type": "code",
      "source": [
        "strtest = input(\"문자입력\")\n",
        "intnum = int(strtest)\n",
        "\n",
        "STRews = str(intnum) + STRews\n",
        "print(STRews)"
      ],
      "metadata": {
        "colab": {
          "base_uri": "https://localhost:8080/"
        },
        "id": "61dMAhS6SWpd",
        "outputId": "96d65343-edbd-4e90-c052-594eb4a05050"
      },
      "execution_count": 32,
      "outputs": [
        {
          "output_type": "stream",
          "name": "stdout",
          "text": [
            "문자입력10\n",
            "1010\n"
          ]
        }
      ]
    },
    {
      "cell_type": "markdown",
      "source": [
        "# 문제4 : 1부터 10까지 더하는 총 계산 문제를 프로그램으로 완성하시오 (반드시 반복문 사용)"
      ],
      "metadata": {
        "id": "fyMad6tkKPWM"
      }
    },
    {
      "cell_type": "code",
      "source": [
        "# while 사용\n",
        "ResultSum = 0 # 총합\n",
        "CurNum = 1 # 더할 값\n",
        "\n",
        "print(\"=====================\")\n",
        "\n",
        "while CurNum <= 10:\n",
        "    print (f\"현재 합 : {ResultSum} + 현재 숫자 : {CurNum}\", end = \"\")\n",
        "    ResultSum += CurNum # 현재 합을 총 합\n",
        "    print(f\" = 합 : {ResultSum}\")\n",
        "    CurNum += 1 # 조건식완료를위함\n",
        "\n",
        "print(\"\\nwhile문 =====> \\n\", f\" 결과 : {ResultSum}\")"
      ],
      "metadata": {
        "id": "ggdAlwpdKOzA",
        "colab": {
          "base_uri": "https://localhost:8080/"
        },
        "outputId": "8b593582-a166-4cfd-ae65-c872ef2e11b2"
      },
      "execution_count": 81,
      "outputs": [
        {
          "output_type": "stream",
          "name": "stdout",
          "text": [
            "=====================\n",
            "현재 합 : 0 + 현재 숫자 : 1 = 합 : 1\n",
            "현재 합 : 1 + 현재 숫자 : 2 = 합 : 3\n",
            "현재 합 : 3 + 현재 숫자 : 3 = 합 : 6\n",
            "현재 합 : 6 + 현재 숫자 : 4 = 합 : 10\n",
            "현재 합 : 10 + 현재 숫자 : 5 = 합 : 15\n",
            "현재 합 : 15 + 현재 숫자 : 6 = 합 : 21\n",
            "현재 합 : 21 + 현재 숫자 : 7 = 합 : 28\n",
            "현재 합 : 28 + 현재 숫자 : 8 = 합 : 36\n",
            "현재 합 : 36 + 현재 숫자 : 9 = 합 : 45\n",
            "현재 합 : 45 + 현재 숫자 : 10 = 합 : 55\n",
            "\n",
            "while문 =====> \n",
            "  결과 : 55\n"
          ]
        }
      ]
    },
    {
      "cell_type": "code",
      "source": [
        "# for문 사용\n",
        "NumList = [1,2,3,4,5,6,7,8,9,10]\n",
        "Sum = 0\n",
        "\n",
        "print(\"=====================\")\n",
        "\n",
        "for i in NumList:\n",
        "    print(f\"{i} + {Sum}\", end = \"\")\n",
        "    Sum += i\n",
        "    print(f\" = {Sum}\")\n",
        "\n",
        "print(\"\\nfor문=====> \\n\", f\" 결과 : {Sum}\")"
      ],
      "metadata": {
        "colab": {
          "base_uri": "https://localhost:8080/"
        },
        "id": "da-IyG-eWkan",
        "outputId": "22e826d8-4e21-4b6d-e887-6c4587d487b5"
      },
      "execution_count": 82,
      "outputs": [
        {
          "output_type": "stream",
          "name": "stdout",
          "text": [
            "=====================\n",
            "1 + 0 = 1\n",
            "2 + 1 = 3\n",
            "3 + 3 = 6\n",
            "4 + 6 = 10\n",
            "5 + 10 = 15\n",
            "6 + 15 = 21\n",
            "7 + 21 = 28\n",
            "8 + 28 = 36\n",
            "9 + 36 = 45\n",
            "10 + 45 = 55\n",
            "\n",
            "for문=====> \n",
            "  결과 : 55\n"
          ]
        }
      ]
    },
    {
      "cell_type": "code",
      "source": [
        "#가우스\n",
        "print(\"가우스 계산법(반복문아님)\")\n",
        "NumInput = int(input(\"원하는 입력값 (정수) : \"))\n",
        "Result = 0\n",
        "\n",
        "print(f\"계산 => (({NumInput} * {NumInput + 1}) / 2 ) = \", end = \"\")\n",
        "\n",
        "Result = (NumInput * (NumInput + 1)) / 2\n",
        "print(int(Result))"
      ],
      "metadata": {
        "colab": {
          "base_uri": "https://localhost:8080/"
        },
        "id": "xOWnJA2FYK4m",
        "outputId": "8e6f370d-4009-42a0-99f1-4b2af795c478"
      },
      "execution_count": 86,
      "outputs": [
        {
          "output_type": "stream",
          "name": "stdout",
          "text": [
            "가우스 계산법(반복문아님)\n",
            "원하는 입력값 (정수) : 10\n",
            "계산 => ((10 * 11) / 2 ) = 55\n"
          ]
        }
      ]
    },
    {
      "cell_type": "code",
      "source": [],
      "metadata": {
        "id": "1-ySeJbHZ8Wd"
      },
      "execution_count": null,
      "outputs": []
    }
  ]
}